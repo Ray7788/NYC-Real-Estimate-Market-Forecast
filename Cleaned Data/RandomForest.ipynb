{
 "cells": [
  {
   "cell_type": "markdown",
   "id": "b2ca08b3",
   "metadata": {},
   "source": [
    "Random Forest\n",
    "=========="
   ]
  },
  {
   "cell_type": "code",
   "execution_count": 1,
   "id": "058f9f6b",
   "metadata": {},
   "outputs": [],
   "source": [
    "import pandas as pd\n",
    "import numpy as np\n",
    "import os\n",
    "import sys\n",
    "import argparse\n",
    "import warnings\n",
    "\n",
    "warnings.simplefilter(action='ignore', category=FutureWarning)\n",
    "warnings.simplefilter(action='ignore', category=UserWarning)"
   ]
  },
  {
   "cell_type": "code",
   "execution_count": 2,
   "id": "57ed4576",
   "metadata": {},
   "outputs": [],
   "source": [
    "processed_df = pd.read_csv(\"EBITDA_new.csv\")"
   ]
  },
  {
   "cell_type": "code",
   "execution_count": 3,
   "id": "a4af3fda",
   "metadata": {},
   "outputs": [
    {
     "name": "stdout",
     "output_type": "stream",
     "text": [
      "Mean Squared Error: 0.9901091788764708\n",
      "R^2 Score: 0.6441409100595397\n"
     ]
    }
   ],
   "source": [
    "from sklearn.model_selection import train_test_split\n",
    "from sklearn.ensemble import RandomForestRegressor\n",
    "from sklearn.metrics import mean_squared_error, r2_score\n",
    "\n",
    "# Select features and target variable\n",
    "features = ['capitalExpenditure_',  'operatingIncome_', \n",
    "            # 'shareholdersEquity_', 'netIncome_',\n",
    "            'totalAssets_', 'EPS_', 'debtToTotalAssets', 'niToAsset', 'ROA', 'revenueGrowth', \n",
    "            'quickRatio', 'rsi', 'mva', 'cfroi', 'salePrice', 'realGDPSA', 'm2SA', \n",
    "            'm2MinusM1SA', 'm2Velocity', 'primeRate', 'EBITDA_lag1']\n",
    "target = 'EBITDA'\n",
    "\n",
    "# Remove missing values\n",
    "processed_df = processed_df.dropna(subset=features + [target])\n",
    "\n",
    "# Split the dataset\n",
    "X = processed_df[features]\n",
    "y = processed_df[target]\n",
    "X_train, X_test, y_train, y_test = train_test_split(X, y, test_size=0.2, random_state=42)\n",
    "\n",
    "# Initialize and train the Random Forest model\n",
    "rf_model = RandomForestRegressor(n_estimators=100, random_state=42)\n",
    "rf_model.fit(X_train, y_train)\n",
    "\n",
    "# Make predictions\n",
    "y_pred = rf_model.predict(X_test)\n",
    "\n",
    "# Evaluate model performance\n",
    "mse = mean_squared_error(y_test, y_pred)\n",
    "r2 = r2_score(y_test, y_pred)\n",
    "\n",
    "print(f\"Mean Squared Error: {mse}\")\n",
    "print(f\"R^2 Score: {r2}\")"
   ]
  },
  {
   "cell_type": "code",
   "execution_count": null,
   "id": "e3736cf7",
   "metadata": {},
   "outputs": [
    {
     "name": "stdout",
     "output_type": "stream",
     "text": [
      "                Feature  Importance\n",
      "20          EBITDA_lag1    0.551086\n",
      "18           m2Velocity    0.117588\n",
      "16                 m2SA    0.055587\n",
      "2      operatingIncome_    0.038457\n",
      "5                  EPS_    0.033313\n",
      "10           quickRatio    0.023516\n",
      "14            salePrice    0.022287\n",
      "15            realGDPSA    0.017467\n",
      "6     debtToTotalAssets    0.017383\n",
      "9         revenueGrowth    0.016127\n",
      "17          m2MinusM1SA    0.015453\n",
      "8                   ROA    0.011368\n",
      "3   shareholdersEquity_    0.010196\n",
      "13                cfroi    0.010144\n",
      "4          totalAssets_    0.009754\n",
      "0   capitalExpenditure_    0.009149\n",
      "7             niToAsset    0.008906\n",
      "1            netIncome_    0.008809\n",
      "12                  mva    0.008007\n",
      "11                  rsi    0.007822\n",
      "19            primeRate    0.007580\n"
     ]
    }
   ],
   "source": [
    "# Feature importance\n",
    "feature_importances = rf_model.feature_importances_\n",
    "\n",
    "# Map feature importances to feature names\n",
    "feature_importance_df = pd.DataFrame({\n",
    "    'Feature': features,\n",
    "    'Importance': feature_importances\n",
    "}).sort_values(by='Importance', ascending=False)\n",
    "\n",
    "print(feature_importance_df)"
   ]
  }
 ],
 "metadata": {
  "kernelspec": {
   "display_name": "Python 3",
   "language": "python",
   "name": "python3"
  },
  "language_info": {
   "codemirror_mode": {
    "name": "ipython",
    "version": 3
   },
   "file_extension": ".py",
   "mimetype": "text/x-python",
   "name": "python",
   "nbconvert_exporter": "python",
   "pygments_lexer": "ipython3",
   "version": "3.9.8"
  }
 },
 "nbformat": 4,
 "nbformat_minor": 5
}
